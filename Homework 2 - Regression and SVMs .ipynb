{
 "cells": [
  {
   "cell_type": "markdown",
   "metadata": {},
   "source": [
    "# MODULES"
   ]
  },
  {
   "cell_type": "code",
   "execution_count": 2,
   "metadata": {},
   "outputs": [],
   "source": [
    "import numpy as np\n",
    "import pandas as pd\n",
    "import matplotlib.pyplot as plt\n",
    "import seaborn as sns\n",
    "from sklearn.linear_model import LogisticRegression\n",
    "from sklearn.svm import SVC\n",
    "from sklearn.model_selection import cross_val_score\n",
    "from sklearn.metrics import mean_squared_error\n",
    "from sklearn.tree import DecisionTreeRegressor\n",
    "from sklearn.linear_model import LinearRegression\n",
    "from sklearn.preprocessing import OrdinalEncoder\n",
    "from sklearn.linear_model import Ridge\n",
    "from sklearn.linear_model import Lasso\n",
    "from sklearn.model_selection import GridSearchCV\n",
    "from sklearn.preprocessing import StandardScaler\n",
    "%matplotlib inline"
   ]
  },
  {
   "cell_type": "markdown",
   "metadata": {},
   "source": [
    "# AUTO DATA SET"
   ]
  },
  {
   "cell_type": "code",
   "execution_count": 2,
   "metadata": {},
   "outputs": [
    {
     "name": "stdout",
     "output_type": "stream",
     "text": [
      "<class 'pandas.core.frame.DataFrame'>\n",
      "RangeIndex: 397 entries, 0 to 396\n",
      "Data columns (total 9 columns):\n",
      " #   Column        Non-Null Count  Dtype  \n",
      "---  ------        --------------  -----  \n",
      " 0   mpg           397 non-null    float64\n",
      " 1   cylinder      397 non-null    int64  \n",
      " 2   displacement  397 non-null    float64\n",
      " 3   horsepower    397 non-null    object \n",
      " 4   weight        397 non-null    int64  \n",
      " 5   accelaration  397 non-null    float64\n",
      " 6   year          397 non-null    int64  \n",
      " 7   origin        397 non-null    int64  \n",
      " 8   name          397 non-null    object \n",
      "dtypes: float64(3), int64(4), object(2)\n",
      "memory usage: 28.0+ KB\n"
     ]
    }
   ],
   "source": [
    "#downloading the auto data set and viewing its description\n",
    "#data was transformed from .data file to .csv using split column by fixed \n",
    "#width on excel \n",
    "input_file = \"Auto.csv\"\n",
    "df = pd.read_csv(input_file)\n",
    "df.info()"
   ]
  },
  {
   "cell_type": "code",
   "execution_count": 3,
   "metadata": {},
   "outputs": [
    {
     "name": "stdout",
     "output_type": "stream",
     "text": [
      "      mpg  cylinder  displacement horsepower  weight  accelaration  year  \\\n",
      "0    18.0         8         307.0        130    3504          12.0    70   \n",
      "1    15.0         8         350.0        165    3693          11.5    70   \n",
      "2    18.0         8         318.0        150    3436          11.0    70   \n",
      "3    16.0         8         304.0        150    3433          12.0    70   \n",
      "4    17.0         8         302.0        140    3449          10.5    70   \n",
      "..    ...       ...           ...        ...     ...           ...   ...   \n",
      "392  27.0         4         140.0         86    2790          15.6    82   \n",
      "393  44.0         4          97.0         52    2130          24.6    82   \n",
      "394  32.0         4         135.0         84    2295          11.6    82   \n",
      "395  28.0         4         120.0         79    2625          18.6    82   \n",
      "396  31.0         4         119.0         82    2720          19.4    82   \n",
      "\n",
      "     origin                       name  mpg01  \n",
      "0         1  chevrolet chevelle malibu      0  \n",
      "1         1          buick skylark 320      0  \n",
      "2         1         plymouth satellite      0  \n",
      "3         1              amc rebel sst      0  \n",
      "4         1                ford torino      0  \n",
      "..      ...                        ...    ...  \n",
      "392       1            ford mustang gl      1  \n",
      "393       2                  vw pickup      1  \n",
      "394       1              dodge rampage      1  \n",
      "395       1                ford ranger      1  \n",
      "396       1                 chevy s-10      1  \n",
      "\n",
      "[397 rows x 10 columns]\n"
     ]
    }
   ],
   "source": [
    "#creating a binary variable(0,1), named mpg01, based on the median mpg\n",
    "median_mpg = df[\"mpg\"].median()\n",
    "df[\"mpg01\"] = (df[\"mpg\"] >= df[\"mpg\"].median()).astype(int)\n",
    "print(df)"
   ]
  },
  {
   "cell_type": "code",
   "execution_count": 4,
   "metadata": {},
   "outputs": [
    {
     "data": {
      "image/png": "[encoded data removed]",
      "text/plain": [
       "<Figure size 144x144 with 1 Axes>"
      ]
     },
     "metadata": {
      "needs_background": "light"
     },
     "output_type": "display_data"
    },
    {
     "data": {
      "image/png": "[encoded data removed]",
      "text/plain": [
       "<Figure size 144x144 with 1 Axes>"
      ]
     },
     "metadata": {
      "needs_background": "light"
     },
     "output_type": "display_data"
    },
    {
     "data": {
      "image/png": "[encoded data removed]",
      "text/plain": [
       "<Figure size 144x144 with 1 Axes>"
      ]
     },
     "metadata": {
      "needs_background": "light"
     },
     "output_type": "display_data"
    },
    {
     "data": {
      "image/png": "[encoded data removed]",
      "text/plain": [
       "<Figure size 144x144 with 1 Axes>"
      ]
     },
     "metadata": {
      "needs_background": "light"
     },
     "output_type": "display_data"
    },
    {
     "data": {
      "image/png": "[encoded data removed]",
      "text/plain": [
       "<Figure size 144x144 with 1 Axes>"
      ]
     },
     "metadata": {
      "needs_background": "light"
     },
     "output_type": "display_data"
    },
    {
     "data": {
      "image/png": "[encoded data removed]",
      "text/plain": [
       "<Figure size 144x144 with 1 Axes>"
      ]
     },
     "metadata": {
      "needs_background": "light"
     },
     "output_type": "display_data"
    }
   ],
   "source": [
    "#exploring the data graphically using boxplots to view any associations\n",
    "#box-plots shows that mpg01 is correlated with cylinder, displacement, and origin \n",
    "plt.figure(figsize=(2,2))\n",
    "c = sns.boxplot(x=df[\"mpg01\"], y=df[\"cylinder\"], palette=\"Blues\", width=0.1);\n",
    "plt.show(c)\n",
    "plt.figure(figsize=(2,2))\n",
    "d = sns.boxplot(x=df[\"mpg01\"], y=df[\"displacement\"], palette=\"Accent\", width=0.1);\n",
    "plt.show(d)\n",
    "plt.figure(figsize=(2,2))\n",
    "w = sns.boxplot(x=df[\"mpg01\"], y=df[\"weight\"], palette=\"coolwarm\", width=0.1);\n",
    "plt.show(w)\n",
    "plt.figure(figsize=(2,2))\n",
    "a = sns.boxplot(x=df[\"mpg01\"], y=df[\"accelaration\"], palette=\"Purples\", width=0.1);\n",
    "plt.show(a)\n",
    "plt.figure(figsize=(2,2))\n",
    "y = sns.boxplot(x=df[\"mpg01\"], y=df[\"year\"], palette=\"Reds\", width=0.1);\n",
    "plt.show(y)\n",
    "plt.figure(figsize=(2,2))\n",
    "o = sns.boxplot(x=df[\"mpg01\"], y=df[\"origin\"], palette=\"autumn\", width=0.1);\n",
    "plt.show(o)"
   ]
  },
  {
   "cell_type": "code",
   "execution_count": 5,
   "metadata": {},
   "outputs": [
    {
     "data": {
      "text/plain": [
       "mpg01           1.000000\n",
       "mpg             0.834672\n",
       "origin          0.509982\n",
       "year            0.430619\n",
       "accelaration    0.346069\n",
       "displacement   -0.754522\n",
       "weight         -0.757516\n",
       "cylinder       -0.760944\n",
       "Name: mpg01, dtype: float64"
      ]
     },
     "execution_count": 5,
     "metadata": {},
     "output_type": "execute_result"
    }
   ],
   "source": [
    "#exploring associations between mpg01 and other features. \n",
    "#medium positive correlation with origin, year, and acceleration\n",
    "#strong negative correlation with displacement, weight, and cylinder\n",
    "corr_matrix = df.corr()\n",
    "corr_matrix[\"mpg01\"].sort_values(ascending=False)"
   ]
  },
  {
   "cell_type": "code",
   "execution_count": 6,
   "metadata": {
    "scrolled": true
   },
   "outputs": [
    {
     "name": "stdout",
     "output_type": "stream",
     "text": [
      "318\n",
      "79\n"
     ]
    },
    {
     "data": {
      "text/html": [
       "<div>\n",
       "<style scoped>\n",
       "    .dataframe tbody tr th:only-of-type {\n",
       "        vertical-align: middle;\n",
       "    }\n",
       "\n",
       "    .dataframe tbody tr th {\n",
       "        vertical-align: top;\n",
       "    }\n",
       "\n",
       "    .dataframe thead th {\n",
       "        text-align: right;\n",
       "    }\n",
       "</style>\n",
       "<table border=\"1\" class=\"dataframe\">\n",
       "  <thead>\n",
       "    <tr style=\"text-align: right;\">\n",
       "      <th></th>\n",
       "      <th>mpg</th>\n",
       "      <th>cylinder</th>\n",
       "      <th>displacement</th>\n",
       "      <th>horsepower</th>\n",
       "      <th>weight</th>\n",
       "      <th>accelaration</th>\n",
       "      <th>year</th>\n",
       "      <th>origin</th>\n",
       "      <th>name</th>\n",
       "      <th>mpg01</th>\n",
       "    </tr>\n",
       "  </thead>\n",
       "  <tbody>\n",
       "    <tr>\n",
       "      <th>44</th>\n",
       "      <td>13.0</td>\n",
       "      <td>8</td>\n",
       "      <td>400.0</td>\n",
       "      <td>175</td>\n",
       "      <td>5140</td>\n",
       "      <td>12.0</td>\n",
       "      <td>71</td>\n",
       "      <td>1</td>\n",
       "      <td>pontiac safari (sw)</td>\n",
       "      <td>0</td>\n",
       "    </tr>\n",
       "    <tr>\n",
       "      <th>173</th>\n",
       "      <td>24.0</td>\n",
       "      <td>4</td>\n",
       "      <td>119.0</td>\n",
       "      <td>97</td>\n",
       "      <td>2545</td>\n",
       "      <td>17.0</td>\n",
       "      <td>75</td>\n",
       "      <td>3</td>\n",
       "      <td>datsun 710</td>\n",
       "      <td>1</td>\n",
       "    </tr>\n",
       "    <tr>\n",
       "      <th>84</th>\n",
       "      <td>27.0</td>\n",
       "      <td>4</td>\n",
       "      <td>97.0</td>\n",
       "      <td>88</td>\n",
       "      <td>2100</td>\n",
       "      <td>16.5</td>\n",
       "      <td>72</td>\n",
       "      <td>3</td>\n",
       "      <td>toyota corolla 1600 (sw)</td>\n",
       "      <td>1</td>\n",
       "    </tr>\n",
       "    <tr>\n",
       "      <th>49</th>\n",
       "      <td>23.0</td>\n",
       "      <td>4</td>\n",
       "      <td>122.0</td>\n",
       "      <td>86</td>\n",
       "      <td>2220</td>\n",
       "      <td>14.0</td>\n",
       "      <td>71</td>\n",
       "      <td>1</td>\n",
       "      <td>mercury capri 2000</td>\n",
       "      <td>1</td>\n",
       "    </tr>\n",
       "    <tr>\n",
       "      <th>23</th>\n",
       "      <td>26.0</td>\n",
       "      <td>4</td>\n",
       "      <td>121.0</td>\n",
       "      <td>113</td>\n",
       "      <td>2234</td>\n",
       "      <td>12.5</td>\n",
       "      <td>70</td>\n",
       "      <td>2</td>\n",
       "      <td>bmw 2002</td>\n",
       "      <td>1</td>\n",
       "    </tr>\n",
       "  </tbody>\n",
       "</table>\n",
       "</div>"
      ],
      "text/plain": [
       "      mpg  cylinder  displacement horsepower  weight  accelaration  year  \\\n",
       "44   13.0         8         400.0        175    5140          12.0    71   \n",
       "173  24.0         4         119.0         97    2545          17.0    75   \n",
       "84   27.0         4          97.0         88    2100          16.5    72   \n",
       "49   23.0         4         122.0         86    2220          14.0    71   \n",
       "23   26.0         4         121.0        113    2234          12.5    70   \n",
       "\n",
       "     origin                      name  mpg01  \n",
       "44        1       pontiac safari (sw)      0  \n",
       "173       3                datsun 710      1  \n",
       "84        3  toyota corolla 1600 (sw)      1  \n",
       "49        1        mercury capri 2000      1  \n",
       "23        2                  bmw 2002      1  "
      ]
     },
     "execution_count": 6,
     "metadata": {},
     "output_type": "execute_result"
    }
   ],
   "source": [
    "#splitting the data into training and test set: 80% train, 20% test \n",
    "np.random.seed(56)\n",
    "def split_train_test(data, test_ratio):\n",
    "    shuffled_indices = np.random.permutation(len(data))\n",
    "    test_set_size = int(len(data) * test_ratio)\n",
    "    test_indices = shuffled_indices[:test_set_size]\n",
    "    train_indices = shuffled_indices[test_set_size:]\n",
    "    return data.iloc[train_indices], data.iloc[test_indices]\n",
    "train_set, test_set = split_train_test(df, 0.2)\n",
    "print(len(train_set))\n",
    "print(len(test_set))\n",
    "train_set.head()"
   ]
  },
  {
   "cell_type": "code",
   "execution_count": 7,
   "metadata": {},
   "outputs": [],
   "source": [
    "#using only highly correlated features to train data set \n",
    "feature_cols = ['cylinder','weight','displacement']\n",
    "X1 = train_set.loc[:,feature_cols]\n",
    "#print(X1.shape)\n",
    "y1 = train_set.mpg01\n",
    "#print(y1.shape)\n",
    "X2 = test_set.loc[:,feature_cols]\n",
    "#print(X2.shape)\n",
    "y2 = test_set.mpg01\n",
    "#print(y2.shape)"
   ]
  },
  {
   "cell_type": "code",
   "execution_count": 8,
   "metadata": {},
   "outputs": [
    {
     "data": {
      "text/plain": [
       "LogisticRegression(random_state=56)"
      ]
     },
     "execution_count": 8,
     "metadata": {},
     "output_type": "execute_result"
    }
   ],
   "source": [
    "logreg = LogisticRegression(random_state=56) \n",
    "logreg.fit(X1, y1)"
   ]
  },
  {
   "cell_type": "code",
   "execution_count": 9,
   "metadata": {},
   "outputs": [
    {
     "data": {
      "text/plain": [
       "array([0, 1, 1, 1, 1, 0, 0, 1, 1, 1, 1, 1, 0, 1, 0, 0, 0, 1, 1, 1, 1, 1,\n",
       "       1, 1, 1, 0, 1, 0, 1, 0, 0, 0, 1, 1, 0, 1, 1, 1, 0, 1, 0, 0, 1, 0,\n",
       "       1, 0, 1, 1, 1, 1, 1, 1, 1, 1, 0, 1, 1, 1, 0, 0, 1, 0, 1, 1, 1, 0,\n",
       "       0, 1, 0, 0, 1, 0, 1, 0, 0, 0, 0, 1, 1, 0, 1, 1, 1, 0, 0, 0, 0, 0,\n",
       "       1, 1, 0, 0, 1, 1, 0, 1, 1, 1, 1, 1, 0, 0, 1, 1, 1, 1, 0, 1, 0, 1,\n",
       "       0, 0, 0, 1, 1, 0, 0, 1, 0, 0, 0, 1, 1, 1, 0, 1, 1, 1, 1, 1, 0, 0,\n",
       "       0, 0, 1, 0, 0, 0, 0, 0, 1, 0, 1, 1, 0, 0, 0, 0, 0, 0, 0, 0, 1, 1,\n",
       "       1, 1, 1, 0, 1, 0, 0, 0, 1, 1, 1, 1, 1, 1, 0, 1, 0, 1, 1, 0, 0, 0,\n",
       "       1, 1, 0, 1, 1, 0, 1, 1, 1, 1, 1, 1, 0, 0, 0, 0, 0, 0, 0, 0, 0, 0,\n",
       "       1, 0, 1, 0, 1, 1, 0, 1, 0, 1, 0, 0, 0, 1, 1, 0, 0, 0, 0, 0, 1, 0,\n",
       "       0, 0, 0, 1, 0, 1, 1, 1, 1, 1, 1, 1, 1, 0, 0, 0, 1, 1, 1, 0, 1, 1,\n",
       "       0, 1, 1, 1, 1, 0, 0, 0, 0, 1, 0, 0, 1, 0, 0, 1, 1, 1, 1, 1, 1, 0,\n",
       "       1, 0, 1, 0, 1, 1, 1, 1, 0, 1, 0, 0, 1, 0, 1, 1, 1, 1, 1, 0, 0, 0,\n",
       "       1, 1, 1, 1, 0, 0, 0, 1, 0, 0, 1, 1, 0, 0, 1, 0, 0, 0, 0, 1, 1, 1,\n",
       "       1, 1, 1, 0, 1, 1, 1, 1, 0, 0])"
      ]
     },
     "execution_count": 9,
     "metadata": {},
     "output_type": "execute_result"
    }
   ],
   "source": [
    "#training instance to check model using one training data\n",
    "logreg.predict(train_set.loc[:,feature_cols])\n",
    "#print(train_set.loc[:,feature_cols])\n",
    "#log.predict works very well on the training set. "
   ]
  },
  {
   "cell_type": "code",
   "execution_count": 10,
   "metadata": {},
   "outputs": [
    {
     "name": "stdout",
     "output_type": "stream",
     "text": [
      "0.12658227848101267\n",
      "0.35578403348241006\n"
     ]
    }
   ],
   "source": [
    "#using test data to find the test error \n",
    "y2_predict = logreg.predict(X2)\n",
    "log_mse = mean_squared_error(y2,y2_predict)\n",
    "log_rmse = np.sqrt(log_mse)\n",
    "print(log_mse)\n",
    "print(log_rmse)"
   ]
  },
  {
   "cell_type": "code",
   "execution_count": null,
   "metadata": {},
   "outputs": [],
   "source": [
    "#fitting data with SVC with several parameter\n",
    "#SVM Classifier model \n",
    "#see this for more info https://scikit-learn.org/stable/modules/generated/sklearn.svm.SVC.html\n",
    "svm_clf1 = SVC(kernel=\"linear\", C=1) #c=1\n",
    "svm_clf1.fit(X1, y1)\n",
    "svm_clf2 = SVC(kernel=\"linear\", C=10) #c=10\n",
    "svm_clf2.fit(X1, y1)\n",
    "svm_clf3 = SVC(kernel=\"poly\", degree=5, gamma=1,  C=10) #poly kernel\n",
    "svm_clf3.fit(X1, y1)\n",
    "svm_clf4 = SVC(kernel=\"rbf\", gamma=1, C=10) #radial kernel \n",
    "svm_clf4.fit(X1, y1)"
   ]
  },
  {
   "cell_type": "code",
   "execution_count": null,
   "metadata": {},
   "outputs": [],
   "source": [
    "#\"cross_val_score\" splits the data into say 5 folds.\n",
    "#Then for each fold it fits the data on 4 folds and scores the 5th fold. \n",
    "#Then it gives you the 5 scores from which you can calculate a mean \n",
    "#and variance for the score. You crossval to tune parameters \n",
    "#and get an estimate of the score.\n",
    "\n",
    "#cross validation for svm_clf1\n",
    "scores1 = cross_val_score(svm_clf1, X1, y1, scoring=\"neg_mean_squared_error\", cv=10)\n",
    "svm_clf1_rmse_scores = np.sqrt(-scores1)\n",
    "\n",
    "#cross validation for svm_clf2\n",
    "scores2 = cross_val_score(svm_clf2, X1, y1, scoring=\"neg_mean_squared_error\", cv=10)\n",
    "svm_clf2_rmse_scores = np.sqrt(-scores2)\n",
    "\n",
    "#cross validation for svm_clf3\n",
    "scores3 = cross_val_score(svm_clf3, X1, y1, scoring=\"neg_mean_squared_error\", cv=10)\n",
    "svm_clf3_rmse_scores = np.sqrt(-scores2)\n",
    "\n",
    "#cross validation for svm_clf4\n",
    "scores4 = cross_val_score(svm_clf4, X1, y1, scoring=\"neg_mean_squared_error\", cv=10)\n",
    "svm_clf4_rmse_scores = np.sqrt(-scores2)"
   ]
  },
  {
   "cell_type": "code",
   "execution_count": null,
   "metadata": {},
   "outputs": [],
   "source": [
    "def display_scores(scores1,scores2,score3,scores4):\n",
    "    print(\"Scores1:\", scores1)\n",
    "    print(\"Mean:\", scores1.mean())\n",
    "    print(\"Standard deviation:\", scores1.std())\n",
    "    print(\"Scores2:\", scores2)\n",
    "    print(\"Mean:\", scores2.mean())\n",
    "    print(\"Standard deviation:\", scores2.std())\n",
    "    print(\"Scores3:\", scores3)\n",
    "    print(\"Mean:\", scores3.mean())\n",
    "    print(\"Standard deviation:\", scores3.std())\n",
    "    print(\"Scores4:\", scores4)\n",
    "    print(\"Mean:\", scores4.mean())\n",
    "    print(\"Standard deviation:\", scores4.std())\n",
    "\n",
    "display_scores(svm_clf1_rmse_scores,svm_clf2_rmse_scores,svm_clf3_rmse_scores,svm_clf4_rmse_scores)"
   ]
  },
  {
   "cell_type": "markdown",
   "metadata": {},
   "source": [
    "# COLLEGE DATASET "
   ]
  },
  {
   "cell_type": "code",
   "execution_count": 5,
   "metadata": {},
   "outputs": [
    {
     "data": {
      "text/html": [
       "<div>\n",
       "<style scoped>\n",
       "    .dataframe tbody tr th:only-of-type {\n",
       "        vertical-align: middle;\n",
       "    }\n",
       "\n",
       "    .dataframe tbody tr th {\n",
       "        vertical-align: top;\n",
       "    }\n",
       "\n",
       "    .dataframe thead th {\n",
       "        text-align: right;\n",
       "    }\n",
       "</style>\n",
       "<table border=\"1\" class=\"dataframe\">\n",
       "  <thead>\n",
       "    <tr style=\"text-align: right;\">\n",
       "      <th></th>\n",
       "      <th>Private</th>\n",
       "    </tr>\n",
       "  </thead>\n",
       "  <tbody>\n",
       "    <tr>\n",
       "      <th>0</th>\n",
       "      <td>1.0</td>\n",
       "    </tr>\n",
       "    <tr>\n",
       "      <th>1</th>\n",
       "      <td>1.0</td>\n",
       "    </tr>\n",
       "    <tr>\n",
       "      <th>2</th>\n",
       "      <td>1.0</td>\n",
       "    </tr>\n",
       "    <tr>\n",
       "      <th>3</th>\n",
       "      <td>1.0</td>\n",
       "    </tr>\n",
       "    <tr>\n",
       "      <th>4</th>\n",
       "      <td>1.0</td>\n",
       "    </tr>\n",
       "    <tr>\n",
       "      <th>...</th>\n",
       "      <td>...</td>\n",
       "    </tr>\n",
       "    <tr>\n",
       "      <th>772</th>\n",
       "      <td>0.0</td>\n",
       "    </tr>\n",
       "    <tr>\n",
       "      <th>773</th>\n",
       "      <td>1.0</td>\n",
       "    </tr>\n",
       "    <tr>\n",
       "      <th>774</th>\n",
       "      <td>1.0</td>\n",
       "    </tr>\n",
       "    <tr>\n",
       "      <th>775</th>\n",
       "      <td>1.0</td>\n",
       "    </tr>\n",
       "    <tr>\n",
       "      <th>776</th>\n",
       "      <td>1.0</td>\n",
       "    </tr>\n",
       "  </tbody>\n",
       "</table>\n",
       "<p>777 rows × 1 columns</p>\n",
       "</div>"
      ],
      "text/plain": [
       "     Private\n",
       "0        1.0\n",
       "1        1.0\n",
       "2        1.0\n",
       "3        1.0\n",
       "4        1.0\n",
       "..       ...\n",
       "772      0.0\n",
       "773      1.0\n",
       "774      1.0\n",
       "775      1.0\n",
       "776      1.0\n",
       "\n",
       "[777 rows x 1 columns]"
      ]
     },
     "execution_count": 5,
     "metadata": {},
     "output_type": "execute_result"
    }
   ],
   "source": [
    "#downloading college.csv file \n",
    "input_file2 = \"College.csv\"\n",
    "df2 = pd.read_csv(input_file2)\n",
    "#df2.info()\n",
    "cat = df2[[\"Private\"]]\n",
    "#cat.head(10)\n",
    "ordinal_encoder = OrdinalEncoder()\n",
    "df2[[\"Private\"]] = ordinal_encoder.fit_transform(cat)\n",
    "#cat_encoded[:10]\n",
    "ordinal_encoder.categories_\n",
    "df2[[\"Private\"]]\n",
    "#df2.hist(bins=50, figsize=(20,15))\n",
    "#df2.describe()"
   ]
  },
  {
   "cell_type": "code",
   "execution_count": 6,
   "metadata": {},
   "outputs": [
    {
     "name": "stdout",
     "output_type": "stream",
     "text": [
      "622\n",
      "155\n"
     ]
    },
    {
     "data": {
      "text/html": [
       "<div>\n",
       "<style scoped>\n",
       "    .dataframe tbody tr th:only-of-type {\n",
       "        vertical-align: middle;\n",
       "    }\n",
       "\n",
       "    .dataframe tbody tr th {\n",
       "        vertical-align: top;\n",
       "    }\n",
       "\n",
       "    .dataframe thead th {\n",
       "        text-align: right;\n",
       "    }\n",
       "</style>\n",
       "<table border=\"1\" class=\"dataframe\">\n",
       "  <thead>\n",
       "    <tr style=\"text-align: right;\">\n",
       "      <th></th>\n",
       "      <th>University</th>\n",
       "      <th>Private</th>\n",
       "      <th>Apps</th>\n",
       "      <th>Accept</th>\n",
       "      <th>Enroll</th>\n",
       "      <th>Top10perc</th>\n",
       "      <th>Top25perc</th>\n",
       "      <th>F.Undergrad</th>\n",
       "      <th>P.Undergrad</th>\n",
       "      <th>Outstate</th>\n",
       "      <th>Room.Board</th>\n",
       "      <th>Books</th>\n",
       "      <th>Personal</th>\n",
       "      <th>PhD</th>\n",
       "      <th>Terminal</th>\n",
       "      <th>S.F.Ratio</th>\n",
       "      <th>perc.alumni</th>\n",
       "      <th>Expend</th>\n",
       "      <th>Grad.Rate</th>\n",
       "    </tr>\n",
       "  </thead>\n",
       "  <tbody>\n",
       "    <tr>\n",
       "      <th>302</th>\n",
       "      <td>Lakeland College</td>\n",
       "      <td>1.0</td>\n",
       "      <td>497</td>\n",
       "      <td>452</td>\n",
       "      <td>231</td>\n",
       "      <td>24</td>\n",
       "      <td>47</td>\n",
       "      <td>887</td>\n",
       "      <td>1957</td>\n",
       "      <td>9400</td>\n",
       "      <td>4005</td>\n",
       "      <td>500</td>\n",
       "      <td>1000</td>\n",
       "      <td>49</td>\n",
       "      <td>65</td>\n",
       "      <td>17.2</td>\n",
       "      <td>25</td>\n",
       "      <td>4054</td>\n",
       "      <td>57</td>\n",
       "    </tr>\n",
       "    <tr>\n",
       "      <th>425</th>\n",
       "      <td>Norwich University</td>\n",
       "      <td>1.0</td>\n",
       "      <td>1743</td>\n",
       "      <td>1625</td>\n",
       "      <td>626</td>\n",
       "      <td>8</td>\n",
       "      <td>29</td>\n",
       "      <td>1862</td>\n",
       "      <td>382</td>\n",
       "      <td>14134</td>\n",
       "      <td>5270</td>\n",
       "      <td>500</td>\n",
       "      <td>800</td>\n",
       "      <td>71</td>\n",
       "      <td>74</td>\n",
       "      <td>13.1</td>\n",
       "      <td>22</td>\n",
       "      <td>9209</td>\n",
       "      <td>63</td>\n",
       "    </tr>\n",
       "    <tr>\n",
       "      <th>137</th>\n",
       "      <td>College of the Holy Cross</td>\n",
       "      <td>1.0</td>\n",
       "      <td>2994</td>\n",
       "      <td>1691</td>\n",
       "      <td>659</td>\n",
       "      <td>70</td>\n",
       "      <td>95</td>\n",
       "      <td>2675</td>\n",
       "      <td>22</td>\n",
       "      <td>18000</td>\n",
       "      <td>6300</td>\n",
       "      <td>400</td>\n",
       "      <td>900</td>\n",
       "      <td>92</td>\n",
       "      <td>96</td>\n",
       "      <td>11.3</td>\n",
       "      <td>55</td>\n",
       "      <td>12138</td>\n",
       "      <td>95</td>\n",
       "    </tr>\n",
       "    <tr>\n",
       "      <th>485</th>\n",
       "      <td>Rutgers State University at Newark</td>\n",
       "      <td>0.0</td>\n",
       "      <td>5785</td>\n",
       "      <td>2690</td>\n",
       "      <td>499</td>\n",
       "      <td>26</td>\n",
       "      <td>62</td>\n",
       "      <td>4005</td>\n",
       "      <td>1886</td>\n",
       "      <td>7410</td>\n",
       "      <td>4748</td>\n",
       "      <td>690</td>\n",
       "      <td>2009</td>\n",
       "      <td>90</td>\n",
       "      <td>95</td>\n",
       "      <td>17.4</td>\n",
       "      <td>16</td>\n",
       "      <td>11878</td>\n",
       "      <td>58</td>\n",
       "    </tr>\n",
       "    <tr>\n",
       "      <th>471</th>\n",
       "      <td>Rensselaer Polytechnic Institute</td>\n",
       "      <td>1.0</td>\n",
       "      <td>4996</td>\n",
       "      <td>4165</td>\n",
       "      <td>936</td>\n",
       "      <td>53</td>\n",
       "      <td>82</td>\n",
       "      <td>4291</td>\n",
       "      <td>16</td>\n",
       "      <td>17475</td>\n",
       "      <td>5976</td>\n",
       "      <td>1230</td>\n",
       "      <td>1100</td>\n",
       "      <td>94</td>\n",
       "      <td>98</td>\n",
       "      <td>15.4</td>\n",
       "      <td>21</td>\n",
       "      <td>15605</td>\n",
       "      <td>70</td>\n",
       "    </tr>\n",
       "  </tbody>\n",
       "</table>\n",
       "</div>"
      ],
      "text/plain": [
       "                             University  Private  Apps  Accept  Enroll  \\\n",
       "302                    Lakeland College      1.0   497     452     231   \n",
       "425                  Norwich University      1.0  1743    1625     626   \n",
       "137           College of the Holy Cross      1.0  2994    1691     659   \n",
       "485  Rutgers State University at Newark      0.0  5785    2690     499   \n",
       "471    Rensselaer Polytechnic Institute      1.0  4996    4165     936   \n",
       "\n",
       "     Top10perc  Top25perc  F.Undergrad  P.Undergrad  Outstate  Room.Board  \\\n",
       "302         24         47          887         1957      9400        4005   \n",
       "425          8         29         1862          382     14134        5270   \n",
       "137         70         95         2675           22     18000        6300   \n",
       "485         26         62         4005         1886      7410        4748   \n",
       "471         53         82         4291           16     17475        5976   \n",
       "\n",
       "     Books  Personal  PhD  Terminal  S.F.Ratio  perc.alumni  Expend  Grad.Rate  \n",
       "302    500      1000   49        65       17.2           25    4054         57  \n",
       "425    500       800   71        74       13.1           22    9209         63  \n",
       "137    400       900   92        96       11.3           55   12138         95  \n",
       "485    690      2009   90        95       17.4           16   11878         58  \n",
       "471   1230      1100   94        98       15.4           21   15605         70  "
      ]
     },
     "execution_count": 6,
     "metadata": {},
     "output_type": "execute_result"
    }
   ],
   "source": [
    "#spliting the data set into training set and test set \n",
    "np.random.seed(44)\n",
    "def split_train_test(data, test_ratio):\n",
    "    shuffled_indices = np.random.permutation(len(data))\n",
    "    test_set_size = int(len(data) * test_ratio)\n",
    "    test_indices = shuffled_indices[:test_set_size]\n",
    "    train_indices = shuffled_indices[test_set_size:]\n",
    "    return data.iloc[train_indices], data.iloc[test_indices]\n",
    "train_set2, test_set2 = split_train_test(df2, 0.2)\n",
    "print(len(train_set2))\n",
    "print(len(test_set2))\n",
    "train_set2.head()"
   ]
  },
  {
   "cell_type": "code",
   "execution_count": 7,
   "metadata": {},
   "outputs": [
    {
     "data": {
      "text/plain": [
       "Apps           1.000000\n",
       "Accept         0.934575\n",
       "Enroll         0.878390\n",
       "F.Undergrad    0.842406\n",
       "PhD            0.412210\n",
       "P.Undergrad    0.409107\n",
       "Terminal       0.382765\n",
       "Top10perc      0.379396\n",
       "Top25perc      0.377299\n",
       "Expend         0.291282\n",
       "Room.Board     0.176696\n",
       "Grad.Rate      0.171718\n",
       "Personal       0.170448\n",
       "Books          0.152413\n",
       "Outstate       0.093228\n",
       "S.F.Ratio      0.051522\n",
       "perc.alumni   -0.094856\n",
       "Private       -0.431342\n",
       "Name: Apps, dtype: float64"
      ]
     },
     "execution_count": 7,
     "metadata": {},
     "output_type": "execute_result"
    }
   ],
   "source": [
    "#checking for any correlations between Apps and other features \n",
    "corr_matrix = train_set2.corr()\n",
    "corr_matrix[\"Apps\"].sort_values(ascending=False)\n",
    "#df2 = df2.drop([\"University\"])"
   ]
  },
  {
   "cell_type": "code",
   "execution_count": 61,
   "metadata": {},
   "outputs": [
    {
     "name": "stdout",
     "output_type": "stream",
     "text": [
      "[[-0.6837556  -0.65746667 -0.5886674  -0.57359106]\n",
      " [-0.33069083 -0.14703751 -0.14417404 -0.36611764]\n",
      " [ 0.02379073 -0.11831771 -0.10703915 -0.19311672]\n",
      " ...\n",
      " [-0.62623381 -0.57130727 -0.49526753 -0.53571386]\n",
      " [-0.33210762 -0.25669492 -0.37936167 -0.47825968]\n",
      " [ 0.84468048  1.29156334  1.37160458  1.63137265]]\n",
      "[[-0.6837556  -0.65746667 -0.5886674  -0.57359106]\n",
      " [-0.33069083 -0.14703751 -0.14417404 -0.36611764]\n",
      " [ 0.02379073 -0.11831771 -0.10703915 -0.19311672]\n",
      " ...\n",
      " [-0.62623381 -0.57130727 -0.49526753 -0.53571386]\n",
      " [-0.33210762 -0.25669492 -0.37936167 -0.47825968]\n",
      " [ 0.84468048  1.29156334  1.37160458  1.63137265]]\n"
     ]
    }
   ],
   "source": [
    "#normalization on train_set2\n",
    "features = train_set2[[\"Apps\",\"Accept\", \"Enroll\", \"F.Undergrad\"]]\n",
    "autoscaler = StandardScaler()\n",
    "features = autoscaler.fit_transform(features)\n",
    "print(features)\n",
    "Apps = features[:,0]\n",
    "Accept = features[:,1]\n",
    "Enroll = features[:,2]\n",
    "FUndergrad = features[:,3]\n",
    "data = Apps, Accept, Enroll, FUndergrad\n",
    "df3 = pd.DataFrame(data)\n",
    "df3 = df3.transpose()\n",
    "#df_new = df.rename(columns={'A': 'a'}, index={'ONE': 'one'})\n",
    "df3 = df3.rename(columns = {0:'Apps',1:'Accept',2:'Enroll',3:\"F.Undergrad\"})\n",
    "\n",
    "\n",
    "#normalization on test_set2\n",
    "features2 = test_set2[[\"Apps\",\"Accept\", \"Enroll\", \"F.Undergrad\"]]\n",
    "autoscaler = StandardScaler()\n",
    "features2 = autoscaler.fit_transform(features)\n",
    "print(features2)\n",
    "Apps2 = features2[:,0]\n",
    "Accept2 = features2[:,1]\n",
    "Enroll2 = features2[:,2]\n",
    "FUndergrad2 = features[:,3]\n",
    "data = Apps2, Accept2, Enroll2, FUndergrad2\n",
    "df4 = pd.DataFrame(data)\n",
    "df4 = df4.transpose()\n",
    "#df_new = df.rename(columns={'A': 'a'}, index={'ONE': 'one'})\n",
    "df4 = df4.rename(columns = {0:'Apps',1:'Accept',2:'Enroll',3:\"F.Undergrad\"})\n",
    "                 "
   ]
  },
  {
   "cell_type": "code",
   "execution_count": 93,
   "metadata": {},
   "outputs": [
    {
     "name": "stdout",
     "output_type": "stream",
     "text": [
      "{'Lasso': Lasso(alpha=0.002)}\n",
      "{'Ridge': Ridge(alpha=0.1)}\n",
      "The lin_mse is 0.12624729517195526\n",
      "The lin_rmse is 0.3553129538476683\n",
      "The ridge_mse is 0.1262474586898478\n",
      "The ridge_rmse is 0.3553348886942164\n",
      "The lasso_mse is 0.12667104500293908\n",
      "The lasso_rmse is 0.369552173175188\n"
     ]
    }
   ],
   "source": [
    "#training\n",
    "features_ = df3.drop(['Apps'], axis = 1)\n",
    "labels = df3[\"Apps\"]\n",
    "lin_reg = LinearRegression()\n",
    "\n",
    "#tuning lasso and ridge for best λ\n",
    "lasso_params = {'alpha':[0.02, 0.002, 0.025, 0.026, 0.03]}\n",
    "ridge_params = {'alpha':[0.1, 0.2, 0.3, 0.4, 0.5]}\n",
    "\n",
    "lasso2 = {'Lasso': GridSearchCV(Lasso(), param_grid=lasso_params).fit(features_, labels).best_estimator_}\n",
    "ridge2 = {'Ridge': GridSearchCV(Ridge(), param_grid=ridge_params).fit(features_, labels).best_estimator_,}\n",
    "print(lasso2)\n",
    "print(ridge2)\n",
    "\n",
    "#use best λ from tuning \n",
    "lasso_reg = Lasso(alpha=0.02)\n",
    "ridge_reg = Ridge(alpha=0.1, solver=\"cholesky\", random_state=42)\n",
    "\n",
    "model = lin_reg.fit(features_, labels)\n",
    "model2 = ridge_reg.fit(features_, labels)\n",
    "model3 = lasso_reg.fit(features_, labels)\n",
    "\n",
    "#testing\n",
    "features_2 = df4.drop(['Apps'], axis = 1)\n",
    "labels2 = df4['Apps']\n",
    "#print(features_2)\n",
    "#print(labels2)\n",
    "predict1 = model.predict(features_2)\n",
    "predict2 = model2.predict(features_2)\n",
    "predict3 = model3.predict(features_2)\n",
    "lin_mse = mean_squared_error(labels2,predict1)\n",
    "lin_rmse = np.sqrt(lin_mse)\n",
    "ridge_mse2 = mean_squared_error(labels2,predict2)\n",
    "ridge_rmse2 = np.sqrt(lin_mse2)\n",
    "lasso_mse3 = mean_squared_error(labels2,predict3)\n",
    "lasso_rmse3 = np.sqrt(lin_mse3)\n",
    "print(\"The lin_mse is\",lin_mse)\n",
    "print(\"The lin_rmse is\", lin_rmse)\n",
    "print(\"The ridge_mse is\", ridge_mse2)\n",
    "print(\"The ridge_rmse is\", ridge_rmse2)\n",
    "print(\"The lasso_mse is\", lasso_mse3)\n",
    "print(\"The lasso_rmse is\", lasso_rmse3)"
   ]
  }
 ],
 "metadata": {
  "kernelspec": {
   "display_name": "Python 3",
   "language": "python",
   "name": "python3"
  },
  "language_info": {
   "codemirror_mode": {
    "name": "ipython",
    "version": 3
   },
   "file_extension": ".py",
   "mimetype": "text/x-python",
   "name": "python",
   "nbconvert_exporter": "python",
   "pygments_lexer": "ipython3",
   "version": "3.8.5"
  }
 },
 "nbformat": 4,
 "nbformat_minor": 4
}
