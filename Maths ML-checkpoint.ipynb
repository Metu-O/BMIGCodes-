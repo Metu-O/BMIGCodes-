{
 "cells": [
  {
   "cell_type": "markdown",
   "metadata": {},
   "source": [
    "# Question 1 "
   ]
  },
  {
   "cell_type": "code",
   "execution_count": 1,
   "metadata": {},
   "outputs": [
    {
     "name": "stdout",
     "output_type": "stream",
     "text": [
      "The value of the innermost function, Ta, is:\n",
      "[[ 0.]\n",
      " [-2.]]\n",
      "The value of the composite function is:\n",
      "[[-6.]\n",
      " [ 0.]]\n"
     ]
    }
   ],
   "source": [
    "# python code to perform composition of function \n",
    "\n",
    "import numpy as np\n",
    "from numpy.linalg import inv\n",
    "a = np.array([[1., 2.], [0., -1.]])\n",
    "x = np.transpose([[2., 0.]])\n",
    "b = np.transpose([[-2., -2.]])\n",
    "Ta = (np.dot(a,x))+b\n",
    "Tb = (np.dot(a,Ta))+b\n",
    "print(\"The value of the innermost function, Ta, is:\")\n",
    "print (Ta)\n",
    "print(\"The value of the composite function is:\") \n",
    "print (Tb)\n",
    "\n",
    "    "
   ]
  },
  {
   "cell_type": "markdown",
   "metadata": {},
   "source": [
    "# Question 2"
   ]
  },
  {
   "cell_type": "code",
   "execution_count": 2,
   "metadata": {},
   "outputs": [
    {
     "name": "stdout",
     "output_type": "stream",
     "text": [
      "Gradient of x1**4 +x2**2 at (-1, 0) is \n",
      "[-4.  0.]\n"
     ]
    }
   ],
   "source": [
    "#python code to find gradient of function \n",
    "\n",
    "import numdifftools as nd\n",
    "def function(x):  \n",
    "    return (x[0]**4 +x[1]**2)\n",
    "  \n",
    "gradient = nd.Gradient(function)([-1,0])\n",
    "print(\"Gradient of x1**4 +x2**2 at (-1, 0) is \")\n",
    "print(gradient)"
   ]
  },
  {
   "cell_type": "markdown",
   "metadata": {},
   "source": [
    "# Question 3"
   ]
  },
  {
   "cell_type": "code",
   "execution_count": 3,
   "metadata": {},
   "outputs": [
    {
     "name": "stdout",
     "output_type": "stream",
     "text": [
      "Empirical mean of tuple is -0.011844994521867682\n",
      "Empirical standard Deviation of tuple is 0.661057276063646\n"
     ]
    }
   ],
   "source": [
    "#python code to find empirical mean and empirical standard deviation \n",
    "\n",
    "import random\n",
    "import numpy as np\n",
    "import math\n",
    "import statistics \n",
    "\n",
    "def f(u,v):\n",
    "    a = -2 * math.log10(u)\n",
    "    b = math.sqrt(a)\n",
    "    c = math.pi * 2 * v\n",
    "    d = math.cos(c)\n",
    "    return b*d \n",
    "\n",
    "n = 5000\n",
    "tuple = []\n",
    "for i in range(n):\n",
    "    u = random.uniform(0,1)\n",
    "    v = np.random.uniform(0,1)\n",
    "    tuple.append(f(u,v))\n",
    "\n",
    "print(\"Empirical mean of tuple is\",(statistics.mean(tuple)))\n",
    "print(\"Empirical standard Deviation of tuple is\",(statistics.stdev(tuple)))"
   ]
  },
  {
   "cell_type": "markdown",
   "metadata": {},
   "source": [
    "# Question 4"
   ]
  },
  {
   "cell_type": "code",
   "execution_count": 4,
   "metadata": {},
   "outputs": [
    {
     "name": "stdout",
     "output_type": "stream",
     "text": [
      "(array([   2,   42,  244,  737, 1427, 1434,  832,  234,   43,    5],\n",
      "      dtype=int64), array([-2.63738642, -2.11520699, -1.59302756, -1.07084814, -0.54866871,\n",
      "       -0.02648928,  0.49569015,  1.01786957,  1.540049  ,  2.06222843,\n",
      "        2.58440786]))\n"
     ]
    },
    {
     "data": {
      "text/plain": [
       "<function matplotlib.pyplot.show(close=None, block=None)>"
      ]
     },
     "execution_count": 4,
     "metadata": {},
     "output_type": "execute_result"
    },
    {
     "data": {
      "image/png": "[encoded data removed]",
      "text/plain": [
       "<Figure size 432x288 with 1 Axes>"
      ]
     },
     "metadata": {
      "needs_background": "light"
     },
     "output_type": "display_data"
    }
   ],
   "source": [
    "#python code to plot histogram \n",
    "\n",
    "import matplotlib.pyplot as plt\n",
    "a = np.histogram(tuple)\n",
    "print(a)\n",
    "plt.hist(tuple)\n",
    "plt.title(\"Histogram of n-tuple for f(u,v)\")\n",
    "plt.ylabel('f(u,v)')\n",
    "plt.xlabel('frequency')\n",
    "plt.show"
   ]
  }
 ],
 "metadata": {
  "kernelspec": {
   "display_name": "Python 3",
   "language": "python",
   "name": "python3"
  },
  "language_info": {
   "codemirror_mode": {
    "name": "ipython",
    "version": 3
   },
   "file_extension": ".py",
   "mimetype": "text/x-python",
   "name": "python",
   "nbconvert_exporter": "python",
   "pygments_lexer": "ipython3",
   "version": "3.8.5"
  }
 },
 "nbformat": 4,
 "nbformat_minor": 4
}
